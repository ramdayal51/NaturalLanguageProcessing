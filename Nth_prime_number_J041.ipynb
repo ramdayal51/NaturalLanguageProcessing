{
  "nbformat": 4,
  "nbformat_minor": 0,
  "metadata": {
    "colab": {
      "name": "Nth prime number J041.ipynb",
      "provenance": [],
      "include_colab_link": true
    },
    "kernelspec": {
      "name": "python3",
      "display_name": "Python 3"
    }
  },
  "cells": [
    {
      "cell_type": "markdown",
      "metadata": {
        "id": "view-in-github",
        "colab_type": "text"
      },
      "source": [
        "<a href=\"https://colab.research.google.com/github/ramdayal51/NaturalLanguageProcessing/blob/master/Nth_prime_number_J041.ipynb\" target=\"_parent\"><img src=\"https://colab.research.google.com/assets/colab-badge.svg\" alt=\"Open In Colab\"/></a>"
      ]
    },
    {
      "cell_type": "code",
      "metadata": {
        "id": "Y9jNSLd6S6qo",
        "colab_type": "code",
        "colab": {
          "base_uri": "https://localhost:8080/",
          "height": 50
        },
        "outputId": "31673da5-40a3-45c9-90b6-ad8159ff426d"
      },
      "source": [
        "def nth_prime(n):\n",
        "    if n==1:\n",
        "        return 2\n",
        "    count = 1\n",
        "    number = 1\n",
        "    while(count < n):\n",
        "        number +=2 \n",
        "        if is_prime_number(number):\n",
        "            count +=1\n",
        "    return number\n",
        "\n",
        "def is_prime_number(number):\n",
        "    f = 2\n",
        "    while (f * f <= number):\n",
        "        if number % f == 0:\n",
        "             return False\n",
        "        f +=1\n",
        "    return True\n",
        "\n",
        "N = int(input(\"Enter a number:\"))\n",
        "nth_prime(N)"
      ],
      "execution_count": 4,
      "outputs": [
        {
          "output_type": "stream",
          "text": [
            "Enter a number:120\n"
          ],
          "name": "stdout"
        },
        {
          "output_type": "execute_result",
          "data": {
            "text/plain": [
              "659"
            ]
          },
          "metadata": {
            "tags": []
          },
          "execution_count": 4
        }
      ]
    }
  ]
}