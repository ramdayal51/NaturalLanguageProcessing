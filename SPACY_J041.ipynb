{
  "nbformat": 4,
  "nbformat_minor": 0,
  "metadata": {
    "colab": {
      "name": "SPACY J041.ipynb",
      "provenance": [],
      "include_colab_link": true
    },
    "kernelspec": {
      "name": "python3",
      "display_name": "Python 3"
    }
  },
  "cells": [
    {
      "cell_type": "markdown",
      "metadata": {
        "id": "view-in-github",
        "colab_type": "text"
      },
      "source": [
        "<a href=\"https://colab.research.google.com/github/ramdayal51/NaturalLanguageProcessing/blob/master/SPACY_J041.ipynb\" target=\"_parent\"><img src=\"https://colab.research.google.com/assets/colab-badge.svg\" alt=\"Open In Colab\"/></a>"
      ]
    },
    {
      "cell_type": "code",
      "metadata": {
        "id": "MVcYpYCUu3Ep",
        "colab_type": "code",
        "colab": {}
      },
      "source": [
        "import pandas as pd\n",
        "import spacy"
      ],
      "execution_count": 0,
      "outputs": []
    },
    {
      "cell_type": "code",
      "metadata": {
        "id": "_4Hj5LORvHIZ",
        "colab_type": "code",
        "colab": {}
      },
      "source": [
        "spacy_en = spacy.load('en')"
      ],
      "execution_count": 0,
      "outputs": []
    },
    {
      "cell_type": "code",
      "metadata": {
        "id": "q2zjbXjAvIHz",
        "colab_type": "code",
        "colab": {}
      },
      "source": [
        "data = pd.read_json(\"http://snap.stanford.edu/data/amazon/productGraph/categoryFiles/reviews_Office_Products_5.json.gz\", lines=True)"
      ],
      "execution_count": 0,
      "outputs": []
    },
    {
      "cell_type": "code",
      "metadata": {
        "id": "Rn9bVh3BvepD",
        "colab_type": "code",
        "colab": {}
      },
      "source": [
        "def pipeline_spacy(text):\n",
        "  tokens = ' '.join([token.text for token in spacy_en(text)])\n",
        "  lem = ' '.join([word.lemma_ for word in spacy_en(text)])\n",
        "  tabb = dict([(word.text,word.pos_) for word in spacy_en(text)])\n",
        "  wordadj = ' '.join([word for word in tabb if tabb[word]=='ADJ'])\n",
        "  result = {'tokenised':tokens,'lem':lem,'word_adj':wordadj}  \n",
        "  return result"
      ],
      "execution_count": 0,
      "outputs": []
    },
    {
      "cell_type": "code",
      "metadata": {
        "id": "2kAYWLilvnnX",
        "colab_type": "code",
        "colab": {
          "base_uri": "https://localhost:8080/",
          "height": 87
        },
        "outputId": "385f44fb-5ab4-412a-d041-125e60f439dd"
      },
      "source": [
        "pipeline_spacy(data['reviewText'][0])"
      ],
      "execution_count": 7,
      "outputs": [
        {
          "output_type": "execute_result",
          "data": {
            "text/plain": [
              "{'lem': \"-PRON- buy -PRON- first hp12c in about 1984 or so , and -PRON- serve -PRON- faithfully until 2002 when -PRON- lose -PRON- while travel .   -PRON- search for another one to replace -PRON- , but find one difficult to come by in -PRON- area .   so , -PRON- decide to buy up and purchase an HP 49g.   what a mistake !   -PRON- know that many people view the HP 49 G ( now 49g+ ) as the flagship of the HP line , but for -PRON- that be a disaster . the 49 g may be powerful , but use -PRON- be extremely counterintuitive ... and the manual be sketchy at good .   the 12c , on the other hand , do what -PRON- need in a way that make good sense to -PRON- . if -PRON- be look for a solid , reliable calculator , the hp12c may be for -PRON- .   -PRON- be programmable .   -PRON- do basic statistic well , and many business application too .   the manual make sense ; -PRON- will be up and run in short order . i'm ready to set -PRON- 49 g aside and move back to -PRON- old friend .   -PRON- do not even have to replace the battery in well over a decade of use!hp 12c , -PRON- be come home !\",\n",
              " 'tokenised': \"I bought my first HP12C in about 1984 or so , and it served me faithfully until 2002 when I lost it while travelling .   I searched for another one to replace it , but found one difficult to come by in my area .   So , I decided to buy up and purchased an HP 49G.   What a mistake !   I know that many people view the HP 49 G ( now 49G+ ) as the flagship of the HP line , but for me that was a disaster . The 49 G may be powerful , but using it is extremely counterintuitive ... and the manual was sketchy at best .   The 12C , on the other hand , does what I need in a way that makes good sense to me . If you are looking for a solid , reliable calculator , the HP12C may be for you .   It 's programmable .   It does basic statistics well , and many business applications too .   The manual makes sense ; you will be up and running in short order . I'm ready to set my 49 G aside and move back to my old friend .   I did n't even have to replace the batteries in well over a decade of use!HP 12C , I 'm coming home !\",\n",
              " 'word_adj': 'first difficult many powerful counterintuitive sketchy best other good solid reliable programmable basic short ready old use!HP'}"
            ]
          },
          "metadata": {
            "tags": []
          },
          "execution_count": 7
        }
      ]
    }
  ]
}