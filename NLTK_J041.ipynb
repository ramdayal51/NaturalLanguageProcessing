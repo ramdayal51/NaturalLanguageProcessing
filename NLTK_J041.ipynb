{
  "nbformat": 4,
  "nbformat_minor": 0,
  "metadata": {
    "colab": {
      "name": "NLTK J041.ipynb",
      "provenance": [],
      "collapsed_sections": [],
      "include_colab_link": true
    },
    "kernelspec": {
      "name": "python3",
      "display_name": "Python 3"
    }
  },
  "cells": [
    {
      "cell_type": "markdown",
      "metadata": {
        "id": "view-in-github",
        "colab_type": "text"
      },
      "source": [
        "<a href=\"https://colab.research.google.com/github/ramdayal51/NaturalLanguageProcessing/blob/master/NLTK_J041.ipynb\" target=\"_parent\"><img src=\"https://colab.research.google.com/assets/colab-badge.svg\" alt=\"Open In Colab\"/></a>"
      ]
    },
    {
      "cell_type": "code",
      "metadata": {
        "id": "w5E-tiCOv9kU",
        "colab_type": "code",
        "colab": {}
      },
      "source": [
        "import pandas as pd\n",
        "import nltk\n",
        "from nltk.stem import WordNetLemmatizer"
      ],
      "execution_count": 0,
      "outputs": []
    },
    {
      "cell_type": "code",
      "metadata": {
        "id": "DIXjgyPZwGWy",
        "colab_type": "code",
        "outputId": "9e37f5e1-deb3-448f-9fa8-d8b234e07aaf",
        "colab": {
          "base_uri": "https://localhost:8080/",
          "height": 134
        }
      },
      "source": [
        "nltk.download('wordnet')\n",
        "nltk.download('averaged_perceptron_tagger')\n",
        "nltk.download('punkt')\n",
        "lem  = WordNetLemmatizer()\n",
        "mwet = nltk.tokenize.MWETokenizer()"
      ],
      "execution_count": 3,
      "outputs": [
        {
          "output_type": "stream",
          "text": [
            "[nltk_data] Downloading package wordnet to /root/nltk_data...\n",
            "[nltk_data]   Unzipping corpora/wordnet.zip.\n",
            "[nltk_data] Downloading package averaged_perceptron_tagger to\n",
            "[nltk_data]     /root/nltk_data...\n",
            "[nltk_data]   Unzipping taggers/averaged_perceptron_tagger.zip.\n",
            "[nltk_data] Downloading package punkt to /root/nltk_data...\n",
            "[nltk_data]   Unzipping tokenizers/punkt.zip.\n"
          ],
          "name": "stdout"
        }
      ]
    },
    {
      "cell_type": "code",
      "metadata": {
        "id": "CHPPN7MawGbc",
        "colab_type": "code",
        "colab": {}
      },
      "source": [
        "data = pd.read_json(\"http://snap.stanford.edu/data/amazon/productGraph/categoryFiles/reviews_Office_Products_5.json.gz\", lines=True)"
      ],
      "execution_count": 0,
      "outputs": []
    },
    {
      "cell_type": "code",
      "metadata": {
        "id": "SP4dMewvwGhV",
        "colab_type": "code",
        "colab": {}
      },
      "source": [
        "def pipeline_nltk(str):\n",
        "  result = dict()\n",
        "  adjective = []\n",
        "  word_tokenizer = nltk.word_tokenize(str)\n",
        "  mwe_tokenizer = mwet.tokenize(str.split())\n",
        "  pos_tag = nltk.pos_tag(word_tokenizer)\n",
        "  for i in pos_tag:\n",
        "    if i[1] == 'JJ':\n",
        "      adjective.append(i[0])\n",
        "\n",
        "  result[\"MWE Tokenizer\"] = mwe_tokenizer\n",
        "  result[\"Word Tokenizer\"] = word_tokenizer\n",
        "  result[\"Pos Tagger\"] = pos_tag\n",
        "  result[\"Adjectives\"] = adjective\n",
        "\n",
        "  return result"
      ],
      "execution_count": 0,
      "outputs": []
    },
    {
      "cell_type": "code",
      "metadata": {
        "id": "iwJoLUEawGaE",
        "colab_type": "code",
        "colab": {}
      },
      "source": [
        "data[\"reviewTextNLTK\"] = data.reviewText.apply(pipeline_nltk)"
      ],
      "execution_count": 0,
      "outputs": []
    }
  ]
}